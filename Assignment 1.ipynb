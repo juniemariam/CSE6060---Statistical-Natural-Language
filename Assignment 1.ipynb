{
 "cells": [
  {
   "cell_type": "markdown",
   "metadata": {},
   "source": [
    "# ASSIGNMENT 1\n",
    "## Most Frequently Used Word In A Corpus Text Data¶\n"
   ]
  },
  {
   "cell_type": "code",
   "execution_count": 15,
   "metadata": {},
   "outputs": [],
   "source": [
    "# IMPORT INAUGURAL CORPUS\n",
    "import nltk\n",
    "from nltk.corpus import inaugural"
   ]
  },
  {
   "cell_type": "code",
   "execution_count": 16,
   "metadata": {},
   "outputs": [
    {
     "data": {
      "text/plain": [
       "['1789-Washington.txt',\n",
       " '1793-Washington.txt',\n",
       " '1797-Adams.txt',\n",
       " '1801-Jefferson.txt',\n",
       " '1805-Jefferson.txt',\n",
       " '1809-Madison.txt',\n",
       " '1813-Madison.txt',\n",
       " '1817-Monroe.txt',\n",
       " '1821-Monroe.txt',\n",
       " '1825-Adams.txt',\n",
       " '1829-Jackson.txt',\n",
       " '1833-Jackson.txt',\n",
       " '1837-VanBuren.txt',\n",
       " '1841-Harrison.txt',\n",
       " '1845-Polk.txt',\n",
       " '1849-Taylor.txt',\n",
       " '1853-Pierce.txt',\n",
       " '1857-Buchanan.txt',\n",
       " '1861-Lincoln.txt',\n",
       " '1865-Lincoln.txt',\n",
       " '1869-Grant.txt',\n",
       " '1873-Grant.txt',\n",
       " '1877-Hayes.txt',\n",
       " '1881-Garfield.txt',\n",
       " '1885-Cleveland.txt',\n",
       " '1889-Harrison.txt',\n",
       " '1893-Cleveland.txt',\n",
       " '1897-McKinley.txt',\n",
       " '1901-McKinley.txt',\n",
       " '1905-Roosevelt.txt',\n",
       " '1909-Taft.txt',\n",
       " '1913-Wilson.txt',\n",
       " '1917-Wilson.txt',\n",
       " '1921-Harding.txt',\n",
       " '1925-Coolidge.txt',\n",
       " '1929-Hoover.txt',\n",
       " '1933-Roosevelt.txt',\n",
       " '1937-Roosevelt.txt',\n",
       " '1941-Roosevelt.txt',\n",
       " '1945-Roosevelt.txt',\n",
       " '1949-Truman.txt',\n",
       " '1953-Eisenhower.txt',\n",
       " '1957-Eisenhower.txt',\n",
       " '1961-Kennedy.txt',\n",
       " '1965-Johnson.txt',\n",
       " '1969-Nixon.txt',\n",
       " '1973-Nixon.txt',\n",
       " '1977-Carter.txt',\n",
       " '1981-Reagan.txt',\n",
       " '1985-Reagan.txt',\n",
       " '1989-Bush.txt',\n",
       " '1993-Clinton.txt',\n",
       " '1997-Clinton.txt',\n",
       " '2001-Bush.txt',\n",
       " '2005-Bush.txt',\n",
       " '2009-Obama.txt',\n",
       " '2013-Obama.txt',\n",
       " '2017-Trump.txt']"
      ]
     },
     "execution_count": 16,
     "metadata": {},
     "output_type": "execute_result"
    }
   ],
   "source": [
    "#DIFFERENT CATEGORIES IN REUTERS CORPUS\n",
    "inaugural.fileids()"
   ]
  },
  {
   "cell_type": "code",
   "execution_count": 17,
   "metadata": {},
   "outputs": [
    {
     "data": {
      "text/plain": [
       "['My',\n",
       " 'Fellow',\n",
       " 'citizens',\n",
       " ':',\n",
       " 'The',\n",
       " 'four',\n",
       " 'years',\n",
       " 'which',\n",
       " 'have',\n",
       " 'elapsed',\n",
       " 'since',\n",
       " 'last',\n",
       " 'I',\n",
       " 'stood',\n",
       " 'in',\n",
       " 'this',\n",
       " 'place',\n",
       " 'have',\n",
       " 'been',\n",
       " 'crowded',\n",
       " 'with',\n",
       " 'counsel',\n",
       " 'and',\n",
       " 'action',\n",
       " 'of',\n",
       " 'the',\n",
       " 'most',\n",
       " 'vital',\n",
       " 'interest',\n",
       " 'and',\n",
       " 'consequence',\n",
       " '.',\n",
       " 'Perhaps',\n",
       " 'no',\n",
       " 'equal',\n",
       " 'period',\n",
       " 'in',\n",
       " 'our',\n",
       " 'history',\n",
       " 'has',\n",
       " 'been',\n",
       " 'so',\n",
       " 'fruitful',\n",
       " 'of',\n",
       " 'important',\n",
       " 'reforms',\n",
       " 'in',\n",
       " 'our',\n",
       " 'economic',\n",
       " 'and',\n",
       " 'industrial',\n",
       " 'life',\n",
       " 'or',\n",
       " 'so',\n",
       " 'full',\n",
       " 'of',\n",
       " 'significant',\n",
       " 'changes',\n",
       " 'in',\n",
       " 'the',\n",
       " 'spirit',\n",
       " 'and',\n",
       " 'purpose',\n",
       " 'of',\n",
       " 'our',\n",
       " 'political',\n",
       " 'action',\n",
       " '.',\n",
       " 'We',\n",
       " 'have',\n",
       " 'sought',\n",
       " 'very',\n",
       " 'thoughtfully',\n",
       " 'to',\n",
       " 'set',\n",
       " 'our',\n",
       " 'house',\n",
       " 'in',\n",
       " 'order',\n",
       " ',',\n",
       " 'correct',\n",
       " 'the',\n",
       " 'grosser',\n",
       " 'errors',\n",
       " 'and',\n",
       " 'abuses',\n",
       " 'of',\n",
       " 'our',\n",
       " 'industrial',\n",
       " 'life',\n",
       " ',',\n",
       " 'liberate',\n",
       " 'and',\n",
       " 'quicken',\n",
       " 'the',\n",
       " 'processes',\n",
       " 'of',\n",
       " 'our',\n",
       " 'national',\n",
       " 'genius',\n",
       " 'and',\n",
       " 'energy',\n",
       " ',',\n",
       " 'and',\n",
       " 'lift',\n",
       " 'our',\n",
       " 'politics',\n",
       " 'to',\n",
       " 'a',\n",
       " 'broader',\n",
       " 'view',\n",
       " 'of',\n",
       " 'the',\n",
       " 'people',\n",
       " \"'\",\n",
       " 's',\n",
       " 'essential',\n",
       " 'interests',\n",
       " '.',\n",
       " 'It',\n",
       " 'is',\n",
       " 'a',\n",
       " 'record',\n",
       " 'of',\n",
       " 'singular',\n",
       " 'variety',\n",
       " 'and',\n",
       " 'singular',\n",
       " 'distinction',\n",
       " '.',\n",
       " 'But',\n",
       " 'I',\n",
       " 'shall',\n",
       " 'not',\n",
       " 'attempt',\n",
       " 'to',\n",
       " 'review',\n",
       " 'it',\n",
       " '.',\n",
       " 'It',\n",
       " 'speaks',\n",
       " 'for',\n",
       " 'itself',\n",
       " 'and',\n",
       " 'will',\n",
       " 'be',\n",
       " 'of',\n",
       " 'increasing',\n",
       " 'influence',\n",
       " 'as',\n",
       " 'the',\n",
       " 'years',\n",
       " 'go',\n",
       " 'by',\n",
       " '.',\n",
       " 'This',\n",
       " 'is',\n",
       " 'not',\n",
       " 'the',\n",
       " 'time',\n",
       " 'for',\n",
       " 'retrospect',\n",
       " '.',\n",
       " 'It',\n",
       " 'is',\n",
       " 'time',\n",
       " 'rather',\n",
       " 'to',\n",
       " 'speak',\n",
       " 'our',\n",
       " 'thoughts',\n",
       " 'and',\n",
       " 'purposes',\n",
       " 'concerning',\n",
       " 'the',\n",
       " 'present',\n",
       " 'and',\n",
       " 'the',\n",
       " 'immediate',\n",
       " 'future',\n",
       " '.',\n",
       " 'Although',\n",
       " 'we',\n",
       " 'have',\n",
       " 'centered',\n",
       " 'counsel',\n",
       " 'and',\n",
       " 'action',\n",
       " 'with',\n",
       " 'such',\n",
       " 'unusual',\n",
       " 'concentration',\n",
       " 'and',\n",
       " 'success',\n",
       " 'upon',\n",
       " 'the',\n",
       " 'great',\n",
       " 'problems',\n",
       " 'of',\n",
       " 'domestic']"
      ]
     },
     "execution_count": 17,
     "metadata": {},
     "output_type": "execute_result"
    }
   ],
   "source": [
    "texts=\"\"\n",
    "texts=inaugural.words(fileids='1917-Wilson.txt')[:200]\n",
    "texts"
   ]
  },
  {
   "cell_type": "code",
   "execution_count": 18,
   "metadata": {},
   "outputs": [
    {
     "data": {
      "text/plain": [
       "'My Fellow citizens : The four years which have elapsed since last I stood in this place have been crowded with counsel and action of the most vital interest and consequence . Perhaps no equal period in our history has been so fruitful of important reforms in our economic and industrial life or so full of significant changes in the spirit and purpose of our political action . We have sought very thoughtfully to set our house in order , correct the grosser errors and abuses of our industrial life '"
      ]
     },
     "execution_count": 18,
     "metadata": {},
     "output_type": "execute_result"
    }
   ],
   "source": [
    "str1=\" \".join(texts)\n",
    "str1[:500]"
   ]
  },
  {
   "cell_type": "code",
   "execution_count": 19,
   "metadata": {},
   "outputs": [
    {
     "data": {
      "text/plain": [
       "FreqDist({',': 8, 'President': 4, 'of': 3, 'and': 2, 'people': 2, 'the': 2, '.': 2, 'our': 2, '\"Chief': 1, 'Justice': 1, ...})"
      ]
     },
     "execution_count": 19,
     "metadata": {},
     "output_type": "execute_result"
    }
   ],
   "source": [
    "# frequency distribution of words in a text\n",
    "text='\"Chief Justice Roberts , President Carter , President Clinton , President Bush , President Obama , fellow Americans , and people of the world : Thank you . We , the citizens of America , are now joined in a great national effort to rebuild our country and restore its promise for all of our people . \"'\n",
    "fd=nltk.FreqDist(text.split())\n",
    "fd"
   ]
  },
  {
   "cell_type": "code",
   "execution_count": 20,
   "metadata": {},
   "outputs": [
    {
     "data": {
      "text/plain": [
       "[6, 7, 1, 9, 4, 5, 3, 2, 8]"
      ]
     },
     "execution_count": 20,
     "metadata": {},
     "output_type": "execute_result"
    }
   ],
   "source": [
    "from nltk.probability import ConditionalFreqDist\n",
    "cfd=ConditionalFreqDist((len(word),word) for word in text.split())\n",
    "#list of conditons\n",
    "cfd.conditions()\n"
   ]
  },
  {
   "cell_type": "code",
   "execution_count": 21,
   "metadata": {},
   "outputs": [
    {
     "data": {
      "text/plain": [
       "FreqDist({'citizens': 1, 'national': 1})"
      ]
     },
     "execution_count": 21,
     "metadata": {},
     "output_type": "execute_result"
    }
   ],
   "source": [
    "cfd[8]\n"
   ]
  },
  {
   "cell_type": "code",
   "execution_count": 22,
   "metadata": {},
   "outputs": [
    {
     "data": {
      "text/plain": [
       "FreqDist({'will': 43, 'your': 10, 'from': 9, 'that': 9, 'this': 8, 'with': 8, 'back': 6, 'same': 6, 'many': 5, 'have': 5, ...})"
      ]
     },
     "execution_count": 22,
     "metadata": {},
     "output_type": "execute_result"
    }
   ],
   "source": [
    "inauguraldata = inaugural.words(fileids = '2017-Trump.txt')\n",
    "cdf = ConditionalFreqDist((len(word), word) for word in inauguraldata)\n",
    "cdf[4]"
   ]
  },
  {
   "cell_type": "code",
   "execution_count": 23,
   "metadata": {},
   "outputs": [],
   "source": [
    "data = []\n",
    "for words in inauguraldata:\n",
    "    if len(words)>4:\n",
    "        data.append(words)\n"
   ]
  },
  {
   "cell_type": "code",
   "execution_count": 24,
   "metadata": {},
   "outputs": [
    {
     "data": {
      "text/plain": [
       "FreqDist({'America': 20, 'American': 11, 'people': 10, 'their': 10, 'country': 9, 'again': 9, 'world': 6, 'great': 6, 'Nation': 6, 'while': 6, ...})"
      ]
     },
     "execution_count": 24,
     "metadata": {},
     "output_type": "execute_result"
    }
   ],
   "source": [
    "fd = nltk.FreqDist(data)\n",
    "fd"
   ]
  },
  {
   "cell_type": "code",
   "execution_count": 25,
   "metadata": {},
   "outputs": [],
   "source": [
    "sorted_fd = sorted(fd.items(), key = lambda x:x[1])"
   ]
  },
  {
   "cell_type": "code",
   "execution_count": 26,
   "metadata": {},
   "outputs": [
    {
     "name": "stdout",
     "output_type": "stream",
     "text": [
      "[('Chief', 1), ('Justice', 1), ('Roberts', 1), ('Carter', 1), ('Clinton', 1), ('fellow', 1), ('joined', 1), ('effort', 1), ('rebuild', 1), ('restore', 1), ('promise', 1), ('determine', 1), ('course', 1), ('challenges', 1), ('confront', 1), ('hardships', 1), ('gather', 1), ('steps', 1), ('carry', 1), ('orderly', 1), ('peaceful', 1), ('transfer', 1), ('grateful', 1), ('First', 1), ('Michelle', 1), ('gracious', 1), ('throughout', 1), ('transition', 1), ('magnificent', 1), ('Today', 1), ('ceremony', 1), ('however', 1), ('special', 1), ('meaning', 1), ('Because', 1), ('merely', 1), ('administration', 1), ('giving', 1), ('group', 1), ('reaped', 1), ('rewards', 1), ('borne', 1), ('flourished', 1), ('Politicians', 1), ('prospered', 1), ('closed', 1), ('establishment', 1), ('itself', 1), ('Their', 1), ('celebrated', 1), ('little', 1), ('celebrate', 1), ('struggling', 1), ('changes', 1), ('starting', 1), ('because', 1), ('gathered', 1), ('watching', 1), ('celebration', 1), ('truly', 1), ('matters', 1), ('controls', 1), ('controlled', 1), ('January', 1), ('remembered', 1), ('became', 1), ('rulers', 1), ('Everyone', 1), ('listening', 1), ('become', 1), ('historic', 1), ('likes', 1), ('center', 1), ('crucial', 1), ('conviction', 1), ('serve', 1), ('schools', 1), ('neighborhoods', 1), ('themselves', 1), ('These', 1), ('reasonable', 1), ('demands', 1), ('public', 1), ('different', 1), ('reality', 1), ('Mothers', 1), ('trapped', 1), ('poverty', 1), ('inner', 1), ('cities', 1), ('rusted', 1), ('scattered', 1), ('tombstones', 1), ('landscape', 1), ('education', 1), ('system', 1), ('flush', 1), ('leaves', 1), ('young', 1), ('beautiful', 1), ('students', 1), ('deprived', 1), ('knowledge', 1), ('crime', 1), ('gangs', 1), ('drugs', 1), ('stolen', 1), ('lives', 1), ('robbed', 1), ('unrealized', 1), ('potential', 1), ('carnage', 1), ('office', 1), ('decades', 1), ('enriched', 1), ('expense', 1), ('subsidized', 1), ('armies', 1), ('allowing', 1), ('depletion', 1), ('defended', 1), ('refusing', 1), ('defend', 1), ('spent', 1), ('dollars', 1), ('overseas', 1), ('infrastructure', 1), ('fallen', 1), ('disrepair', 1), ('decay', 1), ('confidence', 1), ('dissipated', 1), ('horizon', 1), ('shuttered', 1), ('shores', 1), ('thought', 1), ('behind', 1), ('middle', 1), ('class', 1), ('ripped', 1), ('homes', 1), ('redistributed', 1), ('looking', 1), ('future', 1), ('assembled', 1), ('issuing', 1), ('decree', 1), ('heard', 1), ('capital', 1), ('vision', 1), ('govern', 1), ('going', 1), ('decision', 1), ('trade', 1), ('taxes', 1), ('immigration', 1), ('affairs', 1), ('benefit', 1), ('protect', 1), ('ravages', 1), ('making', 1), ('products', 1), ('stealing', 1), ('companies', 1), ('destroying', 1), ('Protection', 1), ('prosperity', 1), ('start', 1), ('build', 1), ('roads', 1), ('highways', 1), ('bridges', 1), ('airports', 1), ('tunnels', 1), ('railways', 1), ('wonderful', 1), ('welfare', 1), ('rebuilding', 1), ('hands', 1), ('labor', 1), ('simple', 1), ('rules', 1), ('friendship', 1), ('understanding', 1), ('interests', 1), ('impose', 1), ('rather', 1), ('shine', 1), ('exampleâ', 1), ('shineâ', 1), ('reinforce', 1), ('alliances', 1), ('unite', 1), ('civilized', 1), ('against', 1), ('radical', 1), ('Islamic', 1), ('terrorism', 1), ('eradicate', 1), ('completely', 1), ('bedrock', 1), ('politics', 1), ('total', 1), ('through', 1), ('rediscover', 1), ('patriotism', 1), ('prejudice', 1), ('Bible', 1), ('tells', 1), ('pleasant', 1), ('unity', 1), ('speak', 1), ('minds', 1), ('openly', 1), ('debate', 1), ('disagreements', 1), ('honestly', 1), ('pursue', 1), ('solidarity', 1), ('united', 1), ('totally', 1), ('unstoppable', 1), ('There', 1), ('should', 1), ('enforcement', 1), ('importantly', 1), ('Finally', 1), ('think', 1), ('dream', 1), ('bigger', 1), ('understand', 1), ('living', 1), ('striving', 1), ('accept', 1), ('politicians', 1), ('constantly', 1), ('complaining', 1), ('doing', 1), ('anything', 1), ('empty', 1), ('arrives', 1), ('allow', 1), ('cannot', 1), ('challenge', 1), ('match', 1), ('spirit', 1), ('thrive', 1), ('prosper', 1), ('stand', 1), ('birth', 1), ('millennium', 1), ('ready', 1), ('unlock', 1), ('mysteries', 1), ('space', 1), ('miseries', 1), ('disease', 1), ('harness', 1), ('energies', 1), ('industries', 1), ('technologies', 1), ('tomorrow', 1), ('pride', 1), ('souls', 1), ('sights', 1), ('divisions', 1), ('remember', 1), ('wisdom', 1), ('soldiers', 1), ('forget', 1), ('Black', 1), ('Brown', 1), ('White', 1), ('bleed', 1), ('blood', 1), ('patriots', 1), ('enjoy', 1), ('freedoms', 1), ('salute', 1), ('child', 1), ('urban', 1), ('sprawl', 1), ('Detroit', 1), ('windswept', 1), ('plains', 1), ('Nebraska', 1), ('night', 1), ('infused', 1), ('almighty', 1), ('Creator', 1), ('large', 1), ('words', 1), ('ignored', 1), ('voice', 1), ('hopes', 1), ('define', 1), ('courage', 1), ('goodness', 1), ('forever', 1), ('guide', 1), ('along', 1), ('strong', 1), ('wealthy', 1), ('proud', 1), ('national', 2), ('Together', 2), ('years', 2), ('Every', 2), ('these', 2), ('transferring', 2), ('another', 2), ('party', 2), ('Washington', 2), ('small', 2), ('Capital', 2), ('share', 2), ('victories', 2), ('triumphs', 2), ('there', 2), ('moment', 2), ('belongs', 2), ('United', 2), ('States', 2), ('forgotten', 2), ('women', 2), ('longer', 2), ('movement', 2), ('before', 2), ('nation', 2), ('exists', 2), ('children', 2), ('righteous', 2), ('stops', 2), ('success', 2), ('glorious', 2), ('destiny', 2), ('allegiance', 2), ('industry', 2), ('military', 2), ('trillions', 2), ('strength', 2), ('about', 2), ('workers', 2), ('forward', 2), ('fight', 2), ('breath', 2), ('winning', 2), ('follow', 2), ('anyone', 2), ('Earth', 2), ('loyalty', 2), ('together', 2), ('always', 2), ('action', 2), ('mountain', 2), ('ocean', 2), ('Obama', 3), ('Government', 3), ('factories', 3), ('families', 3), ('everyone', 3), ('whether', 3), ('millions', 3), ('foreign', 3), ('countries', 3), ('nations', 3), ('borders', 3), ('first', 3), ('bless', 3), ('Americans', 4), ('Thank', 4), ('citizens', 4), ('power', 4), ('today', 4), ('wealth', 4), ('which', 4), ('heart', 4), ('bring', 4), ('President', 5), ('protected', 5), ('across', 5), ('right', 5), ('dreams', 5), ('other', 5), ('every', 5), ('world', 6), ('great', 6), ('Nation', 6), ('while', 6), ('never', 6), ('country', 9), ('again', 9), ('people', 10), ('their', 10), ('American', 11), ('America', 20)]\n"
     ]
    }
   ],
   "source": [
    "print(sorted_fd)"
   ]
  },
  {
   "cell_type": "code",
   "execution_count": null,
   "metadata": {},
   "outputs": [],
   "source": []
  }
 ],
 "metadata": {
  "kernelspec": {
   "display_name": "Python 3",
   "language": "python",
   "name": "python3"
  },
  "language_info": {
   "codemirror_mode": {
    "name": "ipython",
    "version": 3
   },
   "file_extension": ".py",
   "mimetype": "text/x-python",
   "name": "python",
   "nbconvert_exporter": "python",
   "pygments_lexer": "ipython3",
   "version": "3.7.6"
  }
 },
 "nbformat": 4,
 "nbformat_minor": 4
}
