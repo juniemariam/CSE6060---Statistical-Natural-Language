{
  "nbformat": 4,
  "nbformat_minor": 0,
  "metadata": {
    "kernelspec": {
      "display_name": "Python 3",
      "language": "python",
      "name": "python3"
    },
    "language_info": {
      "codemirror_mode": {
        "name": "ipython",
        "version": 3
      },
      "file_extension": ".py",
      "mimetype": "text/x-python",
      "name": "python",
      "nbconvert_exporter": "python",
      "pygments_lexer": "ipython3",
      "version": "3.7.6"
    },
    "colab": {
      "name": "NLP 26TH JAN.ipynb",
      "provenance": []
    }
  },
  "cells": [
    {
      "cell_type": "markdown",
      "metadata": {
        "id": "aF4KOFbcBhkl",
        "colab_type": "text"
      },
      "source": [
        "# TASK 1"
      ]
    },
    {
      "cell_type": "code",
      "metadata": {
        "id": "_nl6fIRMBhkp",
        "colab_type": "code",
        "colab": {}
      },
      "source": [
        "import spacy\n",
        "nlp=spacy.load('en_core_web_sm')"
      ],
      "execution_count": 64,
      "outputs": []
    },
    {
      "cell_type": "code",
      "metadata": {
        "id": "ddjv7IhO_xXB",
        "colab_type": "code",
        "colab": {}
      },
      "source": [
        "# requests for fetching html of website\n",
        "import requests\n",
        "\n",
        "# Make the request to a url\n",
        "\n",
        "r = requests.get('https://www.wired.com/story/guide-emoji/')\n",
        "#r = requests.get('http://www.cleveland.com/metro/index.ssf/2017/12/case_western_reserve_university_president_barbara_snyders_base_salary_and_bonus_pay_tops_among_private_colleges_in_ohio.html')\n",
        "\n",
        "# Create soup from content of request\n",
        "c = r.content\n",
        "\n",
        "from bs4 import BeautifulSoup\n",
        "\n",
        "soup = BeautifulSoup(c)"
      ],
      "execution_count": 11,
      "outputs": []
    },
    {
      "cell_type": "code",
      "metadata": {
        "id": "V9yfjelW_8Yt",
        "colab_type": "code",
        "colab": {
          "base_uri": "https://localhost:8080/",
          "height": 54
        },
        "outputId": "5587357f-78e5-4c1f-da8b-898e985eb544"
      },
      "source": [
        "# Find the element on the webpage\n",
        "main_content = soup.find('div', attrs = {'class': 'grid--item body body__container article__body grid-layout__content'})\n",
        "main_content"
      ],
      "execution_count": 19,
      "outputs": [
        {
          "output_type": "execute_result",
          "data": {
            "text/plain": [
              "<div class=\"grid--item body body__container article__body grid-layout__content\"><p><span class=\"lead-in-text-callout\">Emoji are more</span> than a millennial messaging fad. Think of them more like a primitive language. The tiny, emotive characters—from 😜  to 🎉  to 💩—represent the first language born of the digital world, designed to add emotional nuance to otherwise flat text. Emoji have been popular since they first appeared on Japanese mobile phones in the late ’90s, and in the past few years they have become a hallmark of the way people communicate. They show up in press releases and corporate emails. The White House once issued an  <a class=\"external-link\" data-event-click='{\"element\":\"ExternalLink\",\"outgoingURL\":\"https://www.theatlantic.com/technology/archive/2014/10/why-the-white-house-is-using-emojis/381307/\"}' href=\"https://www.theatlantic.com/technology/archive/2014/10/why-the-white-house-is-using-emojis/381307/\" rel=\"nofollow noopener\" target=\"_blank\">economic report</a> illustrated with emoji. In 2015, 😂  became Oxford Dictionaries’ <a class=\"external-link\" data-event-click='{\"element\":\"ExternalLink\",\"outgoingURL\":\"https://en.oxforddictionaries.com/word-of-the-year/word-of-the-year-2015\"}' href=\"https://en.oxforddictionaries.com/word-of-the-year/word-of-the-year-2015\" rel=\"nofollow noopener\" target=\"_blank\">“Word” of the Year</a>. Emoji aren’t just for people who say things like “lmao smh tbh fam.” Emoji are for everyone.</p><p>That puts a lot of pressure on the designs and standards for emoji. If emoji are a language for everyone in the digital world, then the emoji lexicon needs to constantly evolve across cultures 👳 , across screens📱 , across time 🕑 . Today there are thousands of emoji depicting people in all their diversity, and thousands more to represent the things we interact with in our world: money 💰, prayer beads 📿, Apple Watches⌚. In the future, as the world becomes increasingly digital and increasingly globalized, emoji will become important tools for translation and communication—a lingua franca for the digital age.</p><figure class=\"asset-embed\"><div class=\"asset-embed__asset-container\"><span class=\"responsive-asset asset-embed__responsive-asset responsive-asset--invisible\"><picture class=\"asset-embed__responsive-asset responsive-image\"><noscript><img alt=\"Emoji The Complete History\" class=\"responsive-image__image\" sizes=\"100vw\" src=\"https://media.wired.com/photos/5a726e8b8d395a4a142281a5/master/w_1600%2Cc_limit/howwegotthere.jpg\" srcset=\"https://media.wired.com/photos/5a726e8b8d395a4a142281a5/master/w_1600%2Cc_limit/howwegotthere.jpg 1600w, https://media.wired.com/photos/5a726e8b8d395a4a142281a5/master/w_1280%2Cc_limit/howwegotthere.jpg 1280w, https://media.wired.com/photos/5a726e8b8d395a4a142281a5/master/w_1024%2Cc_limit/howwegotthere.jpg 1024w, https://media.wired.com/photos/5a726e8b8d395a4a142281a5/master/w_768%2Cc_limit/howwegotthere.jpg 768w, https://media.wired.com/photos/5a726e8b8d395a4a142281a5/master/w_640%2Cc_limit/howwegotthere.jpg 640w\"/></noscript></picture></span></div></figure><div class=\"ad ad--in-content\"><div class=\"ad__slot ad__slot--in-content\"></div></div><div aria-level=\"3\" class=\"heading-h3\" role=\"heading\">The First Emoji</div><p>In the beginning, there were emoticons. For the most part, these came of age as the :-) and :-( and 8-D of chatroom conversations in the 1990s. These primitive gestures represented an important part of early netspeak: You could convey sarcasm by tacking on ;-) at the end of your message, or share your ambivalence with the ¯_(ツ)_/¯ face.</p><p>The first emoji were created in 1999 by Japanese artist Shigetaka Kurita. Kurita worked on the development team for “i-mode,” an early mobile internet platform from Japan’s main mobile carrier, DOCOMO. Kurita wanted to design an attractive interface to convey information in a simple, succinct way: for example, an icon to show the weather forecast rather than spelling out “cloudy.” So Kurita sketched a set of 12- by 12-pixel images that could be selected from a keyboard-like grid within the i-mode interface, then sent on mobiles and pages as their own individual characters. Kurita’s original 176 emoji—now part of the <a href=\"https://www.wired.com/2016/10/new-yorks-moma-acquires-first-ever-pixelated-emoji/\">permanent collection</a> at New York’s Museum of Modern Art—privileged symbols over faces, because DOCOMO’s goal was to find new ways to express information. There were characters to show the weather (sun, clouds, umbrella, snowman), traffic (car, tram, airplane, ship), technology (landline, cell phone, TV, GameBoy), and all the phases of the moon. But those characters weren’t purely informational: For the first time, emoji offered a way to add emotional subtext to a message. “I understand” might sound cold or passive on its own, but add ❤️  and the message offered a sense of warmth and sympathy. It was the beginning of a new visual language.</p><div class=\"callout callout--feature-large\"><figure class=\"asset-embed\"><div class=\"asset-embed__asset-container\"><span class=\"responsive-asset asset-embed__responsive-asset responsive-asset--invisible\"><picture class=\"asset-embed__responsive-asset responsive-image\"><noscript><img alt=\"This image may contain Text Number Symbol Alphabet and Menu\" class=\"responsive-image__image\" sizes=\"100vw\" src=\"https://media.wired.com/photos/5926a875cefba457b079abb6/master/w_1600%2Cc_limit/emoji_grid_gray.jpg\" srcset=\"https://media.wired.com/photos/5926a875cefba457b079abb6/master/w_1600%2Cc_limit/emoji_grid_gray.jpg 1600w, https://media.wired.com/photos/5926a875cefba457b079abb6/master/w_1280%2Cc_limit/emoji_grid_gray.jpg 1280w, https://media.wired.com/photos/5926a875cefba457b079abb6/master/w_1024%2Cc_limit/emoji_grid_gray.jpg 1024w, https://media.wired.com/photos/5926a875cefba457b079abb6/master/w_768%2Cc_limit/emoji_grid_gray.jpg 768w, https://media.wired.com/photos/5926a875cefba457b079abb6/master/w_640%2Cc_limit/emoji_grid_gray.jpg 640w\"/></noscript></picture></span></div><figcaption class=\"caption asset-embed__caption\"><span class=\"caption__credit\">(c) NTT DOCOMO, INC.</span></figcaption></figure></div><p>Emoji quickly became popular in Japan, as rival mobile companies copied DOCOMO’s idea. And as mobile computing continued to explode throughout the mid-2000s, companies outside Japan, like Apple, saw an opportunity to incorporate emoji on other platforms. In 2007, a software internationalization team at Google decided to lead the charge, petitioning to get emoji recognized by the <a class=\"external-link\" data-event-click='{\"element\":\"ExternalLink\",\"outgoingURL\":\"https://unicode.org/\"}' href=\"https://unicode.org/\" rel=\"nofollow noopener\" target=\"_blank\">Unicode Consortium</a>, a nonprofit group that works sort of like the United Nations to maintain text standards across computers.</p></div>"
            ]
          },
          "metadata": {
            "tags": []
          },
          "execution_count": 19
        }
      ]
    },
    {
      "cell_type": "code",
      "metadata": {
        "id": "1ZE2cdddACXX",
        "colab_type": "code",
        "colab": {
          "base_uri": "https://localhost:8080/",
          "height": 187
        },
        "outputId": "76409ff2-6f1a-40f4-f280-c2a08fcf29a6"
      },
      "source": [
        "# Extract the relevant information\n",
        "content = main_content.find('p').text\n",
        "\n",
        "import pprint\n",
        "rawtext=str(pprint.pprint(content))"
      ],
      "execution_count": 54,
      "outputs": [
        {
          "output_type": "stream",
          "text": [
            "('Emoji are more than a millennial messaging fad. Think of them more like a '\n",
            " 'primitive language. The tiny, emotive characters—from 😜  to 🎉  to '\n",
            " '💩—represent the first language born of the digital world, designed to add '\n",
            " 'emotional nuance to otherwise flat text. Emoji have been popular since they '\n",
            " 'first appeared on Japanese mobile phones in the late ’90s, and in the past '\n",
            " 'few years they have become a hallmark of the way people communicate. They '\n",
            " 'show up in press releases and corporate emails. The White House once issued '\n",
            " 'an  economic report illustrated with emoji. In 2015, 😂  became Oxford '\n",
            " 'Dictionaries’ “Word” of the Year. Emoji aren’t just for people who say '\n",
            " 'things like “lmao smh tbh fam.” Emoji are for everyone.')\n"
          ],
          "name": "stdout"
        }
      ]
    },
    {
      "cell_type": "code",
      "metadata": {
        "id": "vJKEvh7ZKiX4",
        "colab_type": "code",
        "colab": {
          "base_uri": "https://localhost:8080/",
          "height": 103
        },
        "outputId": "356c78c3-a2b2-487b-d28a-e96b47952603"
      },
      "source": [
        "content"
      ],
      "execution_count": 60,
      "outputs": [
        {
          "output_type": "execute_result",
          "data": {
            "application/vnd.google.colaboratory.intrinsic": {
              "type": "string"
            },
            "text/plain": [
              "'Emoji are more than a millennial messaging fad. Think of them more like a primitive language. The tiny, emotive characters—from 😜  to 🎉  to 💩—represent the first language born of the digital world, designed to add emotional nuance to otherwise flat text. Emoji have been popular since they first appeared on Japanese mobile phones in the late ’90s, and in the past few years they have become a hallmark of the way people communicate. They show up in press releases and corporate emails. The White House once issued an  economic report illustrated with emoji. In 2015, 😂  became Oxford Dictionaries’ “Word” of the Year. Emoji aren’t just for people who say things like “lmao smh tbh fam.” Emoji are for everyone.'"
            ]
          },
          "metadata": {
            "tags": []
          },
          "execution_count": 60
        }
      ]
    },
    {
      "cell_type": "code",
      "metadata": {
        "id": "XPo-uX78VdXG",
        "colab_type": "code",
        "colab": {}
      },
      "source": [
        "def remove_emojis(data):\n",
        "    print(data)\n",
        "    emoj = re.compile(\"[\"\n",
        "        u\"\\U0001F600-\\U0001F64F\"  # emoticons\n",
        "        u\"\\U0001F300-\\U0001F5FF\"  # symbols & pictographs\n",
        "        u\"\\U0001F680-\\U0001F6FF\"  # transport & map symbols\n",
        "        u\"\\U0001F1E0-\\U0001F1FF\"  # flags (iOS)\n",
        "        u\"\\U00002500-\\U00002BEF\"  # chinese char\n",
        "        u\"\\U00002702-\\U000027B0\"\n",
        "        u\"\\U00002702-\\U000027B0\"\n",
        "        u\"\\U000024C2-\\U0001F251\"\n",
        "        u\"\\U0001f926-\\U0001f937\"\n",
        "        u\"\\U00010000-\\U0010ffff\"\n",
        "        u\"\\u2640-\\u2642\" \n",
        "        u\"\\u2600-\\u2B55\"\n",
        "        u\"\\u200d\"\n",
        "        u\"\\u23cf\"\n",
        "        u\"\\u23e9\"\n",
        "        u\"\\u231a\"\n",
        "        u\"\\ufe0f\"  # dingbats\n",
        "        u\"\\u3030\"\n",
        "                      \"]+\", re.UNICODE)\n",
        "    return re.sub(emoj, '', str(data))"
      ],
      "execution_count": 50,
      "outputs": []
    },
    {
      "cell_type": "code",
      "metadata": {
        "id": "cfRoUlVLIl-_",
        "colab_type": "code",
        "colab": {
          "base_uri": "https://localhost:8080/",
          "height": 35
        },
        "outputId": "def29374-80c2-4a7a-8e50-c2b58058f010"
      },
      "source": [
        "rawtext"
      ],
      "execution_count": 55,
      "outputs": [
        {
          "output_type": "execute_result",
          "data": {
            "application/vnd.google.colaboratory.intrinsic": {
              "type": "string"
            },
            "text/plain": [
              "'None'"
            ]
          },
          "metadata": {
            "tags": []
          },
          "execution_count": 55
        }
      ]
    },
    {
      "cell_type": "code",
      "metadata": {
        "id": "XdzvVSbEVf2Y",
        "colab_type": "code",
        "colab": {
          "base_uri": "https://localhost:8080/",
          "height": 54
        },
        "outputId": "ba3d1a67-9b6d-40d7-c656-02054a8910d6"
      },
      "source": [
        "import re\n",
        "dat=remove_emojis(content)"
      ],
      "execution_count": 61,
      "outputs": [
        {
          "output_type": "stream",
          "text": [
            "Emoji are more than a millennial messaging fad. Think of them more like a primitive language. The tiny, emotive characters—from 😜  to 🎉  to 💩—represent the first language born of the digital world, designed to add emotional nuance to otherwise flat text. Emoji have been popular since they first appeared on Japanese mobile phones in the late ’90s, and in the past few years they have become a hallmark of the way people communicate. They show up in press releases and corporate emails. The White House once issued an  economic report illustrated with emoji. In 2015, 😂  became Oxford Dictionaries’ “Word” of the Year. Emoji aren’t just for people who say things like “lmao smh tbh fam.” Emoji are for everyone.\n"
          ],
          "name": "stdout"
        }
      ]
    },
    {
      "cell_type": "code",
      "metadata": {
        "id": "XEN8kGK0JUJc",
        "colab_type": "code",
        "colab": {
          "base_uri": "https://localhost:8080/",
          "height": 103
        },
        "outputId": "c508822c-3f99-4804-f438-5cb6c25c8f2f"
      },
      "source": [
        "#after rmoving emojis\n",
        "dat"
      ],
      "execution_count": 62,
      "outputs": [
        {
          "output_type": "execute_result",
          "data": {
            "application/vnd.google.colaboratory.intrinsic": {
              "type": "string"
            },
            "text/plain": [
              "'Emoji are more than a millennial messaging fad. Think of them more like a primitive language. The tiny, emotive characters—from   to   to —represent the first language born of the digital world, designed to add emotional nuance to otherwise flat text. Emoji have been popular since they first appeared on Japanese mobile phones in the late ’90s, and in the past few years they have become a hallmark of the way people communicate. They show up in press releases and corporate emails. The White House once issued an  economic report illustrated with emoji. In 2015,   became Oxford Dictionaries’ “Word” of the Year. Emoji aren’t just for people who say things like “lmao smh tbh fam.” Emoji are for everyone.'"
            ]
          },
          "metadata": {
            "tags": []
          },
          "execution_count": 62
        }
      ]
    },
    {
      "cell_type": "code",
      "metadata": {
        "id": "XEw94cP7BhlO",
        "colab_type": "code",
        "colab": {}
      },
      "source": [
        "doc=nlp(dat)"
      ],
      "execution_count": 65,
      "outputs": []
    },
    {
      "cell_type": "code",
      "metadata": {
        "scrolled": false,
        "id": "fHFcvS_ABhlX",
        "colab_type": "code",
        "colab": {
          "base_uri": "https://localhost:8080/",
          "height": 54
        },
        "outputId": "ea5d2dd1-549b-4047-f259-ef89fa2d3ebc"
      },
      "source": [
        "#create list of word tokens\n",
        "token_list=[]\n",
        "for token in doc:\n",
        "    token_list.append(token.text)\n",
        "print(token_list)"
      ],
      "execution_count": 66,
      "outputs": [
        {
          "output_type": "stream",
          "text": [
            "['Emoji', 'are', 'more', 'than', 'a', 'millennial', 'messaging', 'fad', '.', 'Think', 'of', 'them', 'more', 'like', 'a', 'primitive', 'language', '.', 'The', 'tiny', ',', 'emotive', 'characters', '—', 'from', '  ', 'to', '  ', 'to', '—', 'represent', 'the', 'first', 'language', 'born', 'of', 'the', 'digital', 'world', ',', 'designed', 'to', 'add', 'emotional', 'nuance', 'to', 'otherwise', 'flat', 'text', '.', 'Emoji', 'have', 'been', 'popular', 'since', 'they', 'first', 'appeared', 'on', 'Japanese', 'mobile', 'phones', 'in', 'the', 'late', '’', '90s', ',', 'and', 'in', 'the', 'past', 'few', 'years', 'they', 'have', 'become', 'a', 'hallmark', 'of', 'the', 'way', 'people', 'communicate', '.', 'They', 'show', 'up', 'in', 'press', 'releases', 'and', 'corporate', 'emails', '.', 'The', 'White', 'House', 'once', 'issued', 'an', ' ', 'economic', 'report', 'illustrated', 'with', 'emoji', '.', 'In', '2015', ',', '  ', 'became', 'Oxford', 'Dictionaries', '’', '“', 'Word', '”', 'of', 'the', 'Year', '.', 'Emoji', 'are', 'n’t', 'just', 'for', 'people', 'who', 'say', 'things', 'like', '“', 'lmao', 'smh', 'tbh', 'fam', '.', '”', 'Emoji', 'are', 'for', 'everyone', '.']\n"
          ],
          "name": "stdout"
        }
      ]
    },
    {
      "cell_type": "code",
      "metadata": {
        "id": "pfNObcnDBhli",
        "colab_type": "code",
        "colab": {
          "base_uri": "https://localhost:8080/",
          "height": 1000
        },
        "outputId": "ca437b7f-ca4b-4bda-ec60-f367bb961759"
      },
      "source": [
        "#pos tagging\n",
        "for token in doc:\n",
        "    print(token.text,token.pos_)"
      ],
      "execution_count": 67,
      "outputs": [
        {
          "output_type": "stream",
          "text": [
            "Emoji PROPN\n",
            "are AUX\n",
            "more ADJ\n",
            "than SCONJ\n",
            "a DET\n",
            "millennial ADJ\n",
            "messaging NOUN\n",
            "fad NOUN\n",
            ". PUNCT\n",
            "Think VERB\n",
            "of ADP\n",
            "them PRON\n",
            "more ADV\n",
            "like SCONJ\n",
            "a DET\n",
            "primitive ADJ\n",
            "language NOUN\n",
            ". PUNCT\n",
            "The DET\n",
            "tiny ADJ\n",
            ", PUNCT\n",
            "emotive ADJ\n",
            "characters NOUN\n",
            "— PUNCT\n",
            "from ADP\n",
            "   SPACE\n",
            "to PART\n",
            "   SPACE\n",
            "to PART\n",
            "— PUNCT\n",
            "represent VERB\n",
            "the DET\n",
            "first ADJ\n",
            "language NOUN\n",
            "born VERB\n",
            "of ADP\n",
            "the DET\n",
            "digital ADJ\n",
            "world NOUN\n",
            ", PUNCT\n",
            "designed VERB\n",
            "to PART\n",
            "add VERB\n",
            "emotional ADJ\n",
            "nuance NOUN\n",
            "to PART\n",
            "otherwise ADV\n",
            "flat ADJ\n",
            "text NOUN\n",
            ". PUNCT\n",
            "Emoji PROPN\n",
            "have AUX\n",
            "been AUX\n",
            "popular ADJ\n",
            "since SCONJ\n",
            "they PRON\n",
            "first ADV\n",
            "appeared VERB\n",
            "on ADP\n",
            "Japanese ADJ\n",
            "mobile ADJ\n",
            "phones NOUN\n",
            "in ADP\n",
            "the DET\n",
            "late ADJ\n",
            "’ NOUN\n",
            "90s NOUN\n",
            ", PUNCT\n",
            "and CCONJ\n",
            "in ADP\n",
            "the DET\n",
            "past ADJ\n",
            "few ADJ\n",
            "years NOUN\n",
            "they PRON\n",
            "have AUX\n",
            "become VERB\n",
            "a DET\n",
            "hallmark NOUN\n",
            "of ADP\n",
            "the DET\n",
            "way NOUN\n",
            "people NOUN\n",
            "communicate VERB\n",
            ". PUNCT\n",
            "They PRON\n",
            "show VERB\n",
            "up ADP\n",
            "in ADP\n",
            "press NOUN\n",
            "releases NOUN\n",
            "and CCONJ\n",
            "corporate ADJ\n",
            "emails NOUN\n",
            ". PUNCT\n",
            "The DET\n",
            "White PROPN\n",
            "House PROPN\n",
            "once ADV\n",
            "issued VERB\n",
            "an DET\n",
            "  SPACE\n",
            "economic ADJ\n",
            "report NOUN\n",
            "illustrated VERB\n",
            "with ADP\n",
            "emoji PROPN\n",
            ". PUNCT\n",
            "In ADP\n",
            "2015 NUM\n",
            ", PUNCT\n",
            "   SPACE\n",
            "became VERB\n",
            "Oxford PROPN\n",
            "Dictionaries NOUN\n",
            "’ PUNCT\n",
            "“ PUNCT\n",
            "Word NOUN\n",
            "” PUNCT\n",
            "of ADP\n",
            "the DET\n",
            "Year PROPN\n",
            ". PUNCT\n",
            "Emoji PROPN\n",
            "are AUX\n",
            "n’t PART\n",
            "just ADV\n",
            "for ADP\n",
            "people NOUN\n",
            "who PRON\n",
            "say VERB\n",
            "things NOUN\n",
            "like SCONJ\n",
            "“ PUNCT\n",
            "lmao PROPN\n",
            "smh VERB\n",
            "tbh DET\n",
            "fam PROPN\n",
            ". PUNCT\n",
            "” PUNCT\n",
            "Emoji PROPN\n",
            "are AUX\n",
            "for ADP\n",
            "everyone PRON\n",
            ". PUNCT\n"
          ],
          "name": "stdout"
        }
      ]
    },
    {
      "cell_type": "code",
      "metadata": {
        "id": "j7PLzBWBBhl1",
        "colab_type": "code",
        "colab": {
          "base_uri": "https://localhost:8080/",
          "height": 221
        },
        "outputId": "921f3ab5-681b-4677-8443-f78897f8863a"
      },
      "source": [
        "#named entities\n",
        "for ent in doc.ents:\n",
        "    print(ent.text,ent.label)"
      ],
      "execution_count": 68,
      "outputs": [
        {
          "output_type": "stream",
          "text": [
            "Emoji 380\n",
            "first 396\n",
            "Emoji 380\n",
            "first 396\n",
            "Japanese 381\n",
            "the late ’90s 391\n",
            "the past few years 391\n",
            "The White House 383\n",
            "2015 391\n",
            "Word” of the Year 388\n",
            "Emoji 380\n",
            "Emoji 380\n"
          ],
          "name": "stdout"
        }
      ]
    },
    {
      "cell_type": "code",
      "metadata": {
        "id": "c-FvIttZH3Ke",
        "colab_type": "code",
        "colab": {
          "base_uri": "https://localhost:8080/",
          "height": 35
        },
        "outputId": "dde5cd21-8930-4b73-d56b-94fdac65fa5a"
      },
      "source": [
        "\n",
        "spacy.explain(\"RB\")"
      ],
      "execution_count": 69,
      "outputs": [
        {
          "output_type": "execute_result",
          "data": {
            "application/vnd.google.colaboratory.intrinsic": {
              "type": "string"
            },
            "text/plain": [
              "'adverb'"
            ]
          },
          "metadata": {
            "tags": []
          },
          "execution_count": 69
        }
      ]
    },
    {
      "cell_type": "code",
      "metadata": {
        "id": "ppLdbO0VBhmJ",
        "colab_type": "code",
        "colab": {
          "base_uri": "https://localhost:8080/",
          "height": 119
        },
        "outputId": "ab0710c8-df3b-4ccd-f959-c8fe9c8657fb"
      },
      "source": [
        "#frequency of entities in the text\n",
        "entity=[]\n",
        "from collections import Counter\n",
        "labels=[x.label_ for x in doc.ents]\n",
        "Counter(labels)\n",
        "#entity.append()"
      ],
      "execution_count": 70,
      "outputs": [
        {
          "output_type": "execute_result",
          "data": {
            "text/plain": [
              "Counter({'DATE': 3,\n",
              "         'NORP': 1,\n",
              "         'ORDINAL': 2,\n",
              "         'ORG': 1,\n",
              "         'PERSON': 4,\n",
              "         'WORK_OF_ART': 1})"
            ]
          },
          "metadata": {
            "tags": []
          },
          "execution_count": 70
        }
      ]
    },
    {
      "cell_type": "code",
      "metadata": {
        "id": "SatAEblHSy9t",
        "colab_type": "code",
        "colab": {
          "base_uri": "https://localhost:8080/",
          "height": 119
        },
        "outputId": "7b99e871-eda2-4e32-ebd7-11fcfdeacc5f"
      },
      "source": [
        "#most common 10 entities\n",
        "Counter(labels).most_common(10)"
      ],
      "execution_count": 71,
      "outputs": [
        {
          "output_type": "execute_result",
          "data": {
            "text/plain": [
              "[('PERSON', 4),\n",
              " ('DATE', 3),\n",
              " ('ORDINAL', 2),\n",
              " ('NORP', 1),\n",
              " ('ORG', 1),\n",
              " ('WORK_OF_ART', 1)]"
            ]
          },
          "metadata": {
            "tags": []
          },
          "execution_count": 71
        }
      ]
    },
    {
      "cell_type": "code",
      "metadata": {
        "id": "4XK9TSkLQ6ub",
        "colab_type": "code",
        "colab": {}
      },
      "source": [
        "list=zip(Counter(labels).most_common(10))"
      ],
      "execution_count": 72,
      "outputs": []
    },
    {
      "cell_type": "code",
      "metadata": {
        "id": "_TrBTlc_RcoT",
        "colab_type": "code",
        "colab": {
          "base_uri": "https://localhost:8080/",
          "height": 34
        },
        "outputId": "912894f5-4785-48d5-87f8-b6a6516a3d42"
      },
      "source": [
        "list"
      ],
      "execution_count": 73,
      "outputs": [
        {
          "output_type": "execute_result",
          "data": {
            "text/plain": [
              "<zip at 0x7f2cce6ec108>"
            ]
          },
          "metadata": {
            "tags": []
          },
          "execution_count": 73
        }
      ]
    },
    {
      "cell_type": "code",
      "metadata": {
        "id": "-LMbWsChRIN4",
        "colab_type": "code",
        "colab": {
          "base_uri": "https://localhost:8080/",
          "height": 34
        },
        "outputId": "125acd55-20f6-4dd1-bdab-0b492a03625f"
      },
      "source": [
        "Counter(labels[0])"
      ],
      "execution_count": 74,
      "outputs": [
        {
          "output_type": "execute_result",
          "data": {
            "text/plain": [
              "Counter({'E': 1, 'N': 1, 'O': 1, 'P': 1, 'R': 1, 'S': 1})"
            ]
          },
          "metadata": {
            "tags": []
          },
          "execution_count": 74
        }
      ]
    },
    {
      "cell_type": "code",
      "metadata": {
        "id": "nnrOfOLBQkL4",
        "colab_type": "code",
        "colab": {
          "base_uri": "https://localhost:8080/",
          "height": 170
        },
        "outputId": "c09a2a76-d107-42bf-9ab0-8558d3e8fc5b"
      },
      "source": [
        "!pip install sns"
      ],
      "execution_count": 75,
      "outputs": [
        {
          "output_type": "stream",
          "text": [
            "Collecting sns\n",
            "  Downloading https://files.pythonhosted.org/packages/58/80/d5a2a12fae635474014e7e0c88959daab3bf815648250fbb7639dd02fe50/sns-0.1.tar.gz\n",
            "Building wheels for collected packages: sns\n",
            "  Building wheel for sns (setup.py) ... \u001b[?25l\u001b[?25hdone\n",
            "  Created wheel for sns: filename=sns-0.1-cp36-none-any.whl size=2664 sha256=78c0047fd2e53cbf722b64e799a29d5d6b12e14b9937e9ff35645fa7ebf297e1\n",
            "  Stored in directory: /root/.cache/pip/wheels/be/a5/d8/4390400ed430c8186a6af96dbb1cc7d0a00a5dee15d268b627\n",
            "Successfully built sns\n",
            "Installing collected packages: sns\n",
            "Successfully installed sns-0.1\n"
          ],
          "name": "stdout"
        }
      ]
    },
    {
      "cell_type": "code",
      "metadata": {
        "id": "PI6ZCfY8NxZh",
        "colab_type": "code",
        "colab": {}
      },
      "source": [
        "#top named entity\n"
      ],
      "execution_count": 76,
      "outputs": []
    },
    {
      "cell_type": "code",
      "metadata": {
        "id": "LY2z1KohBhmS",
        "colab_type": "code",
        "colab": {
          "base_uri": "https://localhost:8080/",
          "height": 1000
        },
        "outputId": "b86c00ca-9f85-42bd-b554-a1682517f111"
      },
      "source": [
        "for token in doc:\n",
        "    print(token.text, token.dep_, token.head.text, token.head.pos_,\n",
        "            [child for child in token.children])"
      ],
      "execution_count": 77,
      "outputs": [
        {
          "output_type": "stream",
          "text": [
            "Emoji nsubj are AUX []\n",
            "are ROOT are AUX [Emoji, more, .]\n",
            "more acomp are AUX [than]\n",
            "than prep more ADJ [fad]\n",
            "a det fad NOUN []\n",
            "millennial amod messaging NOUN []\n",
            "messaging compound fad NOUN [millennial]\n",
            "fad pobj than SCONJ [a, messaging]\n",
            ". punct are AUX []\n",
            "Think ROOT Think VERB [of, like, .]\n",
            "of prep Think VERB [them]\n",
            "them pobj of ADP []\n",
            "more advmod like SCONJ []\n",
            "like prep Think VERB [more, language]\n",
            "a det language NOUN []\n",
            "primitive amod language NOUN []\n",
            "language pobj like SCONJ [a, primitive]\n",
            ". punct Think VERB []\n",
            "The det characters NOUN []\n",
            "tiny amod characters NOUN []\n",
            ", punct characters NOUN []\n",
            "emotive amod characters NOUN []\n",
            "characters ROOT characters NOUN [The, tiny, ,, emotive, —, represent, .]\n",
            "— punct characters NOUN []\n",
            "from prep represent VERB [  , to, to, —]\n",
            "    from ADP []\n",
            "to prep from ADP [  ]\n",
            "    to PART []\n",
            "to prep from ADP []\n",
            "— punct from ADP []\n",
            "represent relcl characters NOUN [from, language, ,, designed]\n",
            "the det language NOUN []\n",
            "first amod language NOUN []\n",
            "language dobj represent VERB [the, first, born]\n",
            "born acl language NOUN [of]\n",
            "of prep born VERB [world]\n",
            "the det world NOUN []\n",
            "digital amod world NOUN []\n",
            "world pobj of ADP [the, digital]\n",
            ", punct represent VERB []\n",
            "designed advcl represent VERB [add]\n",
            "to aux add VERB []\n",
            "add xcomp designed VERB [to, nuance, to]\n",
            "emotional amod nuance NOUN []\n",
            "nuance dobj add VERB [emotional]\n",
            "to prep add VERB [text]\n",
            "otherwise advmod text NOUN []\n",
            "flat amod text NOUN []\n",
            "text pobj to PART [otherwise, flat]\n",
            ". punct characters NOUN []\n",
            "Emoji nsubj been AUX []\n",
            "have aux been AUX []\n",
            "been ROOT been AUX [Emoji, have, popular, appeared, and, become]\n",
            "popular acomp been AUX []\n",
            "since mark appeared VERB []\n",
            "they nsubj appeared VERB []\n",
            "first advmod appeared VERB []\n",
            "appeared advcl been AUX [since, they, first, on, in, ,]\n",
            "on prep appeared VERB [phones]\n",
            "Japanese amod phones NOUN []\n",
            "mobile amod phones NOUN []\n",
            "phones pobj on ADP [Japanese, mobile]\n",
            "in prep appeared VERB [90s]\n",
            "the det 90s NOUN []\n",
            "late amod 90s NOUN []\n",
            "’ punct 90s NOUN []\n",
            "90s pobj in ADP [the, late, ’]\n",
            ", punct appeared VERB []\n",
            "and cc been AUX []\n",
            "in prep become VERB [years]\n",
            "the det years NOUN []\n",
            "past amod years NOUN []\n",
            "few amod years NOUN []\n",
            "years pobj in ADP [the, past, few]\n",
            "they nsubj become VERB []\n",
            "have aux become VERB []\n",
            "become conj been AUX [in, they, have, hallmark, .]\n",
            "a det hallmark NOUN []\n",
            "hallmark attr become VERB [a, of]\n",
            "of prep hallmark NOUN [way]\n",
            "the det way NOUN []\n",
            "way pobj of ADP [the, communicate]\n",
            "people nsubj communicate VERB []\n",
            "communicate relcl way NOUN [people]\n",
            ". punct become VERB []\n",
            "They nsubj show VERB []\n",
            "show ROOT show VERB [They, up, in, .]\n",
            "up prt show VERB []\n",
            "in prep show VERB [releases]\n",
            "press compound releases NOUN []\n",
            "releases pobj in ADP [press, and, emails]\n",
            "and cc releases NOUN []\n",
            "corporate amod emails NOUN []\n",
            "emails conj releases NOUN [corporate]\n",
            ". punct show VERB []\n",
            "The det House PROPN []\n",
            "White compound House PROPN []\n",
            "House nsubj issued VERB [The, White]\n",
            "once advmod issued VERB []\n",
            "issued ROOT issued VERB [House, once, report, .]\n",
            "an det report NOUN [ ]\n",
            "   an DET []\n",
            "economic amod report NOUN []\n",
            "report dobj issued VERB [an, economic, illustrated]\n",
            "illustrated acl report NOUN [with]\n",
            "with prep illustrated VERB [emoji]\n",
            "emoji pobj with ADP []\n",
            ". punct issued VERB []\n",
            "In prep became VERB [2015]\n",
            "2015 pobj In ADP []\n",
            ", punct became VERB [  ]\n",
            "    , PUNCT []\n",
            "became ROOT became VERB [In, ,, Word, .]\n",
            "Oxford compound Dictionaries NOUN []\n",
            "Dictionaries poss Word NOUN [Oxford, ’]\n",
            "’ case Dictionaries NOUN []\n",
            "“ punct Word NOUN []\n",
            "Word attr became VERB [Dictionaries, “, ”, of]\n",
            "” punct Word NOUN []\n",
            "of prep Word NOUN [Year]\n",
            "the det Year PROPN []\n",
            "Year pobj of ADP [the]\n",
            ". punct became VERB []\n",
            "Emoji nsubj are AUX []\n",
            "are ROOT are AUX [Emoji, n’t, for, ., ”]\n",
            "n’t advmod are AUX []\n",
            "just advmod for ADP []\n",
            "for prep are AUX [just, people]\n",
            "people pobj for ADP [say]\n",
            "who nsubj say VERB []\n",
            "say relcl people NOUN [who, things]\n",
            "things dobj say VERB [like]\n",
            "like prep things NOUN [“, lmao, fam]\n",
            "“ punct like SCONJ []\n",
            "lmao pobj like SCONJ []\n",
            "smh compound fam PROPN []\n",
            "tbh compound fam PROPN []\n",
            "fam pobj like SCONJ [smh, tbh]\n",
            ". punct are AUX []\n",
            "” punct are AUX []\n",
            "Emoji nsubj are AUX []\n",
            "are ROOT are AUX [Emoji, for, .]\n",
            "for prep are AUX [everyone]\n",
            "everyone pobj for ADP []\n",
            ". punct are AUX []\n"
          ],
          "name": "stdout"
        }
      ]
    },
    {
      "cell_type": "code",
      "metadata": {
        "id": "KUAAmDz9Bhm4",
        "colab_type": "code",
        "colab": {
          "base_uri": "https://localhost:8080/",
          "height": 442
        },
        "outputId": "a0a6d87e-974e-4b7c-ac5a-f0952f982bf2"
      },
      "source": [
        " print(\"TEXT\tSTART\tEND\tLABEL\tDESCRIPTION\")\n",
        "for ent in doc.ents:\n",
        "    print('\\n',ent.text,'\\t',ent.start_char,'\\t', ent.end_char,'\\t', ent.label_)\n",
        "   \n",
        "    "
      ],
      "execution_count": 78,
      "outputs": [
        {
          "output_type": "stream",
          "text": [
            "TEXT\tSTART\tEND\tLABEL\tDESCRIPTION\n",
            "\n",
            " Emoji \t 0 \t 5 \t PERSON\n",
            "\n",
            " first \t 153 \t 158 \t ORDINAL\n",
            "\n",
            " Emoji \t 252 \t 257 \t PERSON\n",
            "\n",
            " first \t 287 \t 292 \t ORDINAL\n",
            "\n",
            " Japanese \t 305 \t 313 \t NORP\n",
            "\n",
            " the late ’90s \t 331 \t 344 \t DATE\n",
            "\n",
            " the past few years \t 353 \t 371 \t DATE\n",
            "\n",
            " The White House \t 484 \t 499 \t ORG\n",
            "\n",
            " 2015 \t 559 \t 563 \t DATE\n",
            "\n",
            " Word” of the Year \t 596 \t 613 \t WORK_OF_ART\n",
            "\n",
            " Emoji \t 615 \t 620 \t PERSON\n",
            "\n",
            " Emoji \t 684 \t 689 \t PERSON\n"
          ],
          "name": "stdout"
        }
      ]
    },
    {
      "cell_type": "code",
      "metadata": {
        "id": "24MWoQnNBhog",
        "colab_type": "code",
        "colab": {
          "base_uri": "https://localhost:8080/",
          "height": 85
        },
        "outputId": "5692e653-c7e2-4614-b9a9-36cceca3fd4d"
      },
      "source": [
        "from spacy import displacy\n",
        "displacy.serve(doc, style=\"ent\")"
      ],
      "execution_count": null,
      "outputs": [
        {
          "output_type": "stream",
          "text": [
            "\n",
            "Using the 'ent' visualizer\n",
            "Serving on http://0.0.0.0:5000 ...\n",
            "\n"
          ],
          "name": "stdout"
        }
      ]
    },
    {
      "cell_type": "code",
      "metadata": {
        "id": "MamI11o6Bho7",
        "colab_type": "code",
        "colab": {}
      },
      "source": [
        ""
      ],
      "execution_count": null,
      "outputs": []
    }
  ]
}